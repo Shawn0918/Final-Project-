{
 "cells": [
  {
   "cell_type": "code",
   "execution_count": 2,
   "id": "f64b1cfd",
   "metadata": {},
   "outputs": [],
   "source": [
    "import pandas as pd\n",
    "import nltk\n",
    "import matplotlib.pyplot as plt\n",
    "import ipywidgets\n",
    "import gensim\n",
    "import re\n",
    "import wordcloud\n",
    "\n",
    "from nltk.tokenize import word_tokenize, sent_tokenize\n",
    "from nltk.corpus import stopwords\n",
    "from string import punctuation\n",
    "from nltk.stem.porter import PorterStemmer\n",
    "from gensim import corpora, models"
   ]
  },
  {
   "cell_type": "code",
   "execution_count": 4,
   "id": "50b3f4b0",
   "metadata": {},
   "outputs": [],
   "source": [
    "# Import the dataset and examine its data. \n",
    "\n",
    "df = pd.read_csv(\"~/Documents/GitHub/csx4501/data/netflix_titles.csv\")"
   ]
  },
  {
   "cell_type": "code",
   "execution_count": 5,
   "id": "8c043755",
   "metadata": {},
   "outputs": [
    {
     "name": "stdout",
     "output_type": "stream",
     "text": [
      "<class 'pandas.core.frame.DataFrame'>\n",
      "RangeIndex: 8807 entries, 0 to 8806\n",
      "Data columns (total 12 columns):\n",
      " #   Column        Non-Null Count  Dtype \n",
      "---  ------        --------------  ----- \n",
      " 0   show_id       8807 non-null   object\n",
      " 1   type          8807 non-null   object\n",
      " 2   title         8807 non-null   object\n",
      " 3   director      6173 non-null   object\n",
      " 4   cast          7982 non-null   object\n",
      " 5   country       7976 non-null   object\n",
      " 6   date_added    8797 non-null   object\n",
      " 7   release_year  8807 non-null   int64 \n",
      " 8   rating        8803 non-null   object\n",
      " 9   duration      8804 non-null   object\n",
      " 10  listed_in     8807 non-null   object\n",
      " 11  description   8807 non-null   object\n",
      "dtypes: int64(1), object(11)\n",
      "memory usage: 825.8+ KB\n"
     ]
    }
   ],
   "source": [
    "df.info()"
   ]
  },
  {
   "cell_type": "code",
   "execution_count": 6,
   "id": "51fde491",
   "metadata": {},
   "outputs": [
    {
     "data": {
      "text/html": [
       "<div>\n",
       "<style scoped>\n",
       "    .dataframe tbody tr th:only-of-type {\n",
       "        vertical-align: middle;\n",
       "    }\n",
       "\n",
       "    .dataframe tbody tr th {\n",
       "        vertical-align: top;\n",
       "    }\n",
       "\n",
       "    .dataframe thead th {\n",
       "        text-align: right;\n",
       "    }\n",
       "</style>\n",
       "<table border=\"1\" class=\"dataframe\">\n",
       "  <thead>\n",
       "    <tr style=\"text-align: right;\">\n",
       "      <th></th>\n",
       "      <th>show_id</th>\n",
       "      <th>type</th>\n",
       "      <th>title</th>\n",
       "      <th>director</th>\n",
       "      <th>cast</th>\n",
       "      <th>country</th>\n",
       "      <th>date_added</th>\n",
       "      <th>release_year</th>\n",
       "      <th>rating</th>\n",
       "      <th>duration</th>\n",
       "      <th>listed_in</th>\n",
       "      <th>description</th>\n",
       "    </tr>\n",
       "  </thead>\n",
       "  <tbody>\n",
       "    <tr>\n",
       "      <th>5761</th>\n",
       "      <td>s5762</td>\n",
       "      <td>Movie</td>\n",
       "      <td>LEGO Jurassic World: The Indominus Escape</td>\n",
       "      <td>Michael D. Black</td>\n",
       "      <td>A.J. LoCascio, Sendhil Ramamurthy, Fred Tatasc...</td>\n",
       "      <td>United States</td>\n",
       "      <td>October 4, 2016</td>\n",
       "      <td>2016</td>\n",
       "      <td>TV-Y7</td>\n",
       "      <td>25 min</td>\n",
       "      <td>Children &amp; Family Movies, Comedies</td>\n",
       "      <td>The scientists of Jurassic World create a capt...</td>\n",
       "    </tr>\n",
       "    <tr>\n",
       "      <th>7243</th>\n",
       "      <td>s7244</td>\n",
       "      <td>Movie</td>\n",
       "      <td>Kuppivala</td>\n",
       "      <td>Suresh Pillai</td>\n",
       "      <td>Nandu, Kochu Preman, Jayakrishnan, Mohan Ayroo...</td>\n",
       "      <td>NaN</td>\n",
       "      <td>August 1, 2018</td>\n",
       "      <td>2017</td>\n",
       "      <td>TV-14</td>\n",
       "      <td>133 min</td>\n",
       "      <td>Dramas, International Movies, Romantic Movies</td>\n",
       "      <td>A young woman talented at traditional dance fi...</td>\n",
       "    </tr>\n",
       "    <tr>\n",
       "      <th>2050</th>\n",
       "      <td>s2051</td>\n",
       "      <td>Movie</td>\n",
       "      <td>Afonso Padilha: Classless</td>\n",
       "      <td>Junior Carelli, Rudge Campos</td>\n",
       "      <td>Afonso Padilha</td>\n",
       "      <td>Brazil</td>\n",
       "      <td>September 3, 2020</td>\n",
       "      <td>2020</td>\n",
       "      <td>TV-MA</td>\n",
       "      <td>63 min</td>\n",
       "      <td>Stand-Up Comedy</td>\n",
       "      <td>Brazilian comedian Afonso Padilha dives into h...</td>\n",
       "    </tr>\n",
       "    <tr>\n",
       "      <th>6393</th>\n",
       "      <td>s6394</td>\n",
       "      <td>TV Show</td>\n",
       "      <td>Burnistoun</td>\n",
       "      <td>NaN</td>\n",
       "      <td>Iain Connell, Robert Florence, Kirsty Strain, ...</td>\n",
       "      <td>United Kingdom</td>\n",
       "      <td>October 1, 2019</td>\n",
       "      <td>2012</td>\n",
       "      <td>TV-MA</td>\n",
       "      <td>2 Seasons</td>\n",
       "      <td>British TV Shows, TV Comedies</td>\n",
       "      <td>This sketch series focuses on the eccentric ch...</td>\n",
       "    </tr>\n",
       "    <tr>\n",
       "      <th>7136</th>\n",
       "      <td>s7137</td>\n",
       "      <td>Movie</td>\n",
       "      <td>John Carter</td>\n",
       "      <td>Andrew Stanton</td>\n",
       "      <td>Taylor Kitsch, Lynn Collins, Samantha Morton, ...</td>\n",
       "      <td>United States</td>\n",
       "      <td>May 2, 2019</td>\n",
       "      <td>2012</td>\n",
       "      <td>PG-13</td>\n",
       "      <td>133 min</td>\n",
       "      <td>Action &amp; Adventure, Sci-Fi &amp; Fantasy</td>\n",
       "      <td>One minute, Civil War veteran John Carter is e...</td>\n",
       "    </tr>\n",
       "    <tr>\n",
       "      <th>1278</th>\n",
       "      <td>s1279</td>\n",
       "      <td>Movie</td>\n",
       "      <td>Brian Regan: On the Rocks</td>\n",
       "      <td>Troy Miller</td>\n",
       "      <td>Brian Regan</td>\n",
       "      <td>United States</td>\n",
       "      <td>February 23, 2021</td>\n",
       "      <td>2021</td>\n",
       "      <td>TV-G</td>\n",
       "      <td>58 min</td>\n",
       "      <td>Stand-Up Comedy</td>\n",
       "      <td>Brian Regan tackles the big issues weighing on...</td>\n",
       "    </tr>\n",
       "    <tr>\n",
       "      <th>7367</th>\n",
       "      <td>s7368</td>\n",
       "      <td>Movie</td>\n",
       "      <td>Mad Max</td>\n",
       "      <td>George Miller</td>\n",
       "      <td>Mel Gibson, Joanne Samuel, Hugh Keays-Byrne, S...</td>\n",
       "      <td>Australia, United States</td>\n",
       "      <td>August 1, 2020</td>\n",
       "      <td>1979</td>\n",
       "      <td>R</td>\n",
       "      <td>93 min</td>\n",
       "      <td>Action &amp; Adventure, Classic Movies, Cult Movies</td>\n",
       "      <td>In a post-apocalyptic future, a malicious gang...</td>\n",
       "    </tr>\n",
       "    <tr>\n",
       "      <th>2922</th>\n",
       "      <td>s2923</td>\n",
       "      <td>TV Show</td>\n",
       "      <td>Palazuelos mi rey</td>\n",
       "      <td>NaN</td>\n",
       "      <td>Roberto Palazuelos</td>\n",
       "      <td>NaN</td>\n",
       "      <td>February 13, 2020</td>\n",
       "      <td>2019</td>\n",
       "      <td>TV-14</td>\n",
       "      <td>1 Season</td>\n",
       "      <td>International TV Shows, Reality TV, Spanish-La...</td>\n",
       "      <td>This reality series follows entrepreneur and s...</td>\n",
       "    </tr>\n",
       "    <tr>\n",
       "      <th>8680</th>\n",
       "      <td>s8681</td>\n",
       "      <td>Movie</td>\n",
       "      <td>Viswasapoorvam Mansoor</td>\n",
       "      <td>P.T. Kunju Muhammad</td>\n",
       "      <td>Roshan Mathew, Asha Sarath, Prayaga Martin, Za...</td>\n",
       "      <td>India</td>\n",
       "      <td>July 1, 2018</td>\n",
       "      <td>2017</td>\n",
       "      <td>TV-14</td>\n",
       "      <td>125 min</td>\n",
       "      <td>Dramas, International Movies</td>\n",
       "      <td>When a mother and her daughter arrive to stay ...</td>\n",
       "    </tr>\n",
       "    <tr>\n",
       "      <th>8594</th>\n",
       "      <td>s8595</td>\n",
       "      <td>Movie</td>\n",
       "      <td>Tinker Bell and the Legend of the NeverBeast</td>\n",
       "      <td>Steve Loter</td>\n",
       "      <td>Ginnifer Goodwin, Mae Whitman, Rosario Dawson,...</td>\n",
       "      <td>United States</td>\n",
       "      <td>May 17, 2015</td>\n",
       "      <td>2014</td>\n",
       "      <td>G</td>\n",
       "      <td>78 min</td>\n",
       "      <td>Children &amp; Family Movies</td>\n",
       "      <td>When suspicious scout fairies scheme to captur...</td>\n",
       "    </tr>\n",
       "  </tbody>\n",
       "</table>\n",
       "</div>"
      ],
      "text/plain": [
       "     show_id     type                                         title  \\\n",
       "5761   s5762    Movie     LEGO Jurassic World: The Indominus Escape   \n",
       "7243   s7244    Movie                                     Kuppivala   \n",
       "2050   s2051    Movie                     Afonso Padilha: Classless   \n",
       "6393   s6394  TV Show                                    Burnistoun   \n",
       "7136   s7137    Movie                                   John Carter   \n",
       "1278   s1279    Movie                     Brian Regan: On the Rocks   \n",
       "7367   s7368    Movie                                       Mad Max   \n",
       "2922   s2923  TV Show                             Palazuelos mi rey   \n",
       "8680   s8681    Movie                        Viswasapoorvam Mansoor   \n",
       "8594   s8595    Movie  Tinker Bell and the Legend of the NeverBeast   \n",
       "\n",
       "                          director  \\\n",
       "5761              Michael D. Black   \n",
       "7243                 Suresh Pillai   \n",
       "2050  Junior Carelli, Rudge Campos   \n",
       "6393                           NaN   \n",
       "7136                Andrew Stanton   \n",
       "1278                   Troy Miller   \n",
       "7367                 George Miller   \n",
       "2922                           NaN   \n",
       "8680           P.T. Kunju Muhammad   \n",
       "8594                   Steve Loter   \n",
       "\n",
       "                                                   cast  \\\n",
       "5761  A.J. LoCascio, Sendhil Ramamurthy, Fred Tatasc...   \n",
       "7243  Nandu, Kochu Preman, Jayakrishnan, Mohan Ayroo...   \n",
       "2050                                     Afonso Padilha   \n",
       "6393  Iain Connell, Robert Florence, Kirsty Strain, ...   \n",
       "7136  Taylor Kitsch, Lynn Collins, Samantha Morton, ...   \n",
       "1278                                        Brian Regan   \n",
       "7367  Mel Gibson, Joanne Samuel, Hugh Keays-Byrne, S...   \n",
       "2922                                 Roberto Palazuelos   \n",
       "8680  Roshan Mathew, Asha Sarath, Prayaga Martin, Za...   \n",
       "8594  Ginnifer Goodwin, Mae Whitman, Rosario Dawson,...   \n",
       "\n",
       "                       country         date_added  release_year rating  \\\n",
       "5761             United States    October 4, 2016          2016  TV-Y7   \n",
       "7243                       NaN     August 1, 2018          2017  TV-14   \n",
       "2050                    Brazil  September 3, 2020          2020  TV-MA   \n",
       "6393            United Kingdom    October 1, 2019          2012  TV-MA   \n",
       "7136             United States        May 2, 2019          2012  PG-13   \n",
       "1278             United States  February 23, 2021          2021   TV-G   \n",
       "7367  Australia, United States     August 1, 2020          1979      R   \n",
       "2922                       NaN  February 13, 2020          2019  TV-14   \n",
       "8680                     India       July 1, 2018          2017  TV-14   \n",
       "8594             United States       May 17, 2015          2014      G   \n",
       "\n",
       "       duration                                          listed_in  \\\n",
       "5761     25 min                 Children & Family Movies, Comedies   \n",
       "7243    133 min      Dramas, International Movies, Romantic Movies   \n",
       "2050     63 min                                    Stand-Up Comedy   \n",
       "6393  2 Seasons                      British TV Shows, TV Comedies   \n",
       "7136    133 min               Action & Adventure, Sci-Fi & Fantasy   \n",
       "1278     58 min                                    Stand-Up Comedy   \n",
       "7367     93 min    Action & Adventure, Classic Movies, Cult Movies   \n",
       "2922   1 Season  International TV Shows, Reality TV, Spanish-La...   \n",
       "8680    125 min                       Dramas, International Movies   \n",
       "8594     78 min                           Children & Family Movies   \n",
       "\n",
       "                                            description  \n",
       "5761  The scientists of Jurassic World create a capt...  \n",
       "7243  A young woman talented at traditional dance fi...  \n",
       "2050  Brazilian comedian Afonso Padilha dives into h...  \n",
       "6393  This sketch series focuses on the eccentric ch...  \n",
       "7136  One minute, Civil War veteran John Carter is e...  \n",
       "1278  Brian Regan tackles the big issues weighing on...  \n",
       "7367  In a post-apocalyptic future, a malicious gang...  \n",
       "2922  This reality series follows entrepreneur and s...  \n",
       "8680  When a mother and her daughter arrive to stay ...  \n",
       "8594  When suspicious scout fairies scheme to captur...  "
      ]
     },
     "execution_count": 6,
     "metadata": {},
     "output_type": "execute_result"
    }
   ],
   "source": [
    "df.sample(10)"
   ]
  },
  {
   "cell_type": "code",
   "execution_count": 7,
   "id": "a2e4131c",
   "metadata": {},
   "outputs": [],
   "source": [
    "# Group the data by the type column. \n",
    "\n",
    "movies = df[df[\"type\"]==\"Movie\"]\n",
    "movies.index = range(len(movies))\n",
    "tv_shows = df[df[\"type\"]==\"TV Show\"]\n",
    "tv_shows.index = range(len(tv_shows))"
   ]
  },
  {
   "cell_type": "code",
   "execution_count": 8,
   "id": "1f76f969",
   "metadata": {},
   "outputs": [
    {
     "data": {
      "text/plain": [
       "6131"
      ]
     },
     "execution_count": 8,
     "metadata": {},
     "output_type": "execute_result"
    }
   ],
   "source": [
    "len(movies)"
   ]
  },
  {
   "cell_type": "markdown",
   "id": "607df705",
   "metadata": {},
   "source": [
    "## Pre-processing the data\n",
    "***"
   ]
  },
  {
   "cell_type": "code",
   "execution_count": 9,
   "id": "2e306e37",
   "metadata": {},
   "outputs": [],
   "source": [
    "# To create a list containing all the categories of TV-shows and movies.\n",
    "\n",
    "categories = []\n",
    "for i in range(len(movies)):\n",
    "    for w in movies.loc[i,'listed_in'].split(\", \"):\n",
    "        if w not in categories:\n",
    "            categories.append(w)"
   ]
  },
  {
   "cell_type": "code",
   "execution_count": 10,
   "id": "67aa3afc",
   "metadata": {},
   "outputs": [
    {
     "data": {
      "text/plain": [
       "['Documentaries',\n",
       " 'Children & Family Movies',\n",
       " 'Dramas',\n",
       " 'Independent Movies',\n",
       " 'International Movies',\n",
       " 'Comedies',\n",
       " 'Thrillers',\n",
       " 'Romantic Movies',\n",
       " 'Music & Musicals',\n",
       " 'Horror Movies',\n",
       " 'Sci-Fi & Fantasy',\n",
       " 'Action & Adventure',\n",
       " 'Classic Movies',\n",
       " 'Anime Features',\n",
       " 'Sports Movies',\n",
       " 'Cult Movies',\n",
       " 'Faith & Spirituality',\n",
       " 'LGBTQ Movies',\n",
       " 'Stand-Up Comedy',\n",
       " 'Movies']"
      ]
     },
     "execution_count": 10,
     "metadata": {},
     "output_type": "execute_result"
    }
   ],
   "source": [
    "categories"
   ]
  },
  {
   "cell_type": "markdown",
   "id": "35257f34",
   "metadata": {},
   "source": [
    "There's a category named \"Movies\", which might indicate all movies without being categorized. So I dropped the data about these movies."
   ]
  },
  {
   "cell_type": "code",
   "execution_count": 11,
   "id": "126aa294",
   "metadata": {},
   "outputs": [],
   "source": [
    "movies = movies.drop(labels=movies[movies[\"listed_in\"]==\"Movies\"].index,axis=0)\n",
    "movies.index = range(len(movies))"
   ]
  },
  {
   "cell_type": "code",
   "execution_count": 12,
   "id": "f1616354",
   "metadata": {},
   "outputs": [
    {
     "data": {
      "text/html": [
       "<div>\n",
       "<style scoped>\n",
       "    .dataframe tbody tr th:only-of-type {\n",
       "        vertical-align: middle;\n",
       "    }\n",
       "\n",
       "    .dataframe tbody tr th {\n",
       "        vertical-align: top;\n",
       "    }\n",
       "\n",
       "    .dataframe thead th {\n",
       "        text-align: right;\n",
       "    }\n",
       "</style>\n",
       "<table border=\"1\" class=\"dataframe\">\n",
       "  <thead>\n",
       "    <tr style=\"text-align: right;\">\n",
       "      <th></th>\n",
       "      <th>show_id</th>\n",
       "      <th>type</th>\n",
       "      <th>title</th>\n",
       "      <th>director</th>\n",
       "      <th>cast</th>\n",
       "      <th>country</th>\n",
       "      <th>date_added</th>\n",
       "      <th>release_year</th>\n",
       "      <th>rating</th>\n",
       "      <th>duration</th>\n",
       "      <th>listed_in</th>\n",
       "      <th>description</th>\n",
       "    </tr>\n",
       "  </thead>\n",
       "  <tbody>\n",
       "    <tr>\n",
       "      <th>0</th>\n",
       "      <td>s1</td>\n",
       "      <td>Movie</td>\n",
       "      <td>Dick Johnson Is Dead</td>\n",
       "      <td>Kirsten Johnson</td>\n",
       "      <td>NaN</td>\n",
       "      <td>United States</td>\n",
       "      <td>September 25, 2021</td>\n",
       "      <td>2020</td>\n",
       "      <td>PG-13</td>\n",
       "      <td>90 min</td>\n",
       "      <td>Documentaries</td>\n",
       "      <td>As her father nears the end of his life, filmm...</td>\n",
       "    </tr>\n",
       "    <tr>\n",
       "      <th>1</th>\n",
       "      <td>s7</td>\n",
       "      <td>Movie</td>\n",
       "      <td>My Little Pony: A New Generation</td>\n",
       "      <td>Robert Cullen, José Luis Ucha</td>\n",
       "      <td>Vanessa Hudgens, Kimiko Glenn, James Marsden, ...</td>\n",
       "      <td>NaN</td>\n",
       "      <td>September 24, 2021</td>\n",
       "      <td>2021</td>\n",
       "      <td>PG</td>\n",
       "      <td>91 min</td>\n",
       "      <td>Children &amp; Family Movies</td>\n",
       "      <td>Equestria's divided. But a bright-eyed hero be...</td>\n",
       "    </tr>\n",
       "    <tr>\n",
       "      <th>2</th>\n",
       "      <td>s8</td>\n",
       "      <td>Movie</td>\n",
       "      <td>Sankofa</td>\n",
       "      <td>Haile Gerima</td>\n",
       "      <td>Kofi Ghanaba, Oyafunmike Ogunlano, Alexandra D...</td>\n",
       "      <td>United States, Ghana, Burkina Faso, United Kin...</td>\n",
       "      <td>September 24, 2021</td>\n",
       "      <td>1993</td>\n",
       "      <td>TV-MA</td>\n",
       "      <td>125 min</td>\n",
       "      <td>Dramas, Independent Movies, International Movies</td>\n",
       "      <td>On a photo shoot in Ghana, an American model s...</td>\n",
       "    </tr>\n",
       "    <tr>\n",
       "      <th>3</th>\n",
       "      <td>s10</td>\n",
       "      <td>Movie</td>\n",
       "      <td>The Starling</td>\n",
       "      <td>Theodore Melfi</td>\n",
       "      <td>Melissa McCarthy, Chris O'Dowd, Kevin Kline, T...</td>\n",
       "      <td>United States</td>\n",
       "      <td>September 24, 2021</td>\n",
       "      <td>2021</td>\n",
       "      <td>PG-13</td>\n",
       "      <td>104 min</td>\n",
       "      <td>Comedies, Dramas</td>\n",
       "      <td>A woman adjusting to life after a loss contend...</td>\n",
       "    </tr>\n",
       "    <tr>\n",
       "      <th>4</th>\n",
       "      <td>s13</td>\n",
       "      <td>Movie</td>\n",
       "      <td>Je Suis Karl</td>\n",
       "      <td>Christian Schwochow</td>\n",
       "      <td>Luna Wedler, Jannis Niewöhner, Milan Peschel, ...</td>\n",
       "      <td>Germany, Czech Republic</td>\n",
       "      <td>September 23, 2021</td>\n",
       "      <td>2021</td>\n",
       "      <td>TV-MA</td>\n",
       "      <td>127 min</td>\n",
       "      <td>Dramas, International Movies</td>\n",
       "      <td>After most of her family is murdered in a terr...</td>\n",
       "    </tr>\n",
       "    <tr>\n",
       "      <th>5</th>\n",
       "      <td>s14</td>\n",
       "      <td>Movie</td>\n",
       "      <td>Confessions of an Invisible Girl</td>\n",
       "      <td>Bruno Garotti</td>\n",
       "      <td>Klara Castanho, Lucca Picon, Júlia Gomes, Marc...</td>\n",
       "      <td>NaN</td>\n",
       "      <td>September 22, 2021</td>\n",
       "      <td>2021</td>\n",
       "      <td>TV-PG</td>\n",
       "      <td>91 min</td>\n",
       "      <td>Children &amp; Family Movies, Comedies</td>\n",
       "      <td>When the clever but socially-awkward Tetê join...</td>\n",
       "    </tr>\n",
       "    <tr>\n",
       "      <th>6</th>\n",
       "      <td>s17</td>\n",
       "      <td>Movie</td>\n",
       "      <td>Europe's Most Dangerous Man: Otto Skorzeny in ...</td>\n",
       "      <td>Pedro de Echave García, Pablo Azorín Williams</td>\n",
       "      <td>NaN</td>\n",
       "      <td>NaN</td>\n",
       "      <td>September 22, 2021</td>\n",
       "      <td>2020</td>\n",
       "      <td>TV-MA</td>\n",
       "      <td>67 min</td>\n",
       "      <td>Documentaries, International Movies</td>\n",
       "      <td>Declassified documents reveal the post-WWII li...</td>\n",
       "    </tr>\n",
       "    <tr>\n",
       "      <th>7</th>\n",
       "      <td>s19</td>\n",
       "      <td>Movie</td>\n",
       "      <td>Intrusion</td>\n",
       "      <td>Adam Salky</td>\n",
       "      <td>Freida Pinto, Logan Marshall-Green, Robert Joh...</td>\n",
       "      <td>NaN</td>\n",
       "      <td>September 22, 2021</td>\n",
       "      <td>2021</td>\n",
       "      <td>TV-14</td>\n",
       "      <td>94 min</td>\n",
       "      <td>Thrillers</td>\n",
       "      <td>After a deadly home invasion at a couple’s new...</td>\n",
       "    </tr>\n",
       "    <tr>\n",
       "      <th>8</th>\n",
       "      <td>s23</td>\n",
       "      <td>Movie</td>\n",
       "      <td>Avvai Shanmughi</td>\n",
       "      <td>K.S. Ravikumar</td>\n",
       "      <td>Kamal Hassan, Meena, Gemini Ganesan, Heera Raj...</td>\n",
       "      <td>NaN</td>\n",
       "      <td>September 21, 2021</td>\n",
       "      <td>1996</td>\n",
       "      <td>TV-PG</td>\n",
       "      <td>161 min</td>\n",
       "      <td>Comedies, International Movies</td>\n",
       "      <td>Newly divorced and denied visitation rights wi...</td>\n",
       "    </tr>\n",
       "    <tr>\n",
       "      <th>9</th>\n",
       "      <td>s24</td>\n",
       "      <td>Movie</td>\n",
       "      <td>Go! Go! Cory Carson: Chrissy Takes the Wheel</td>\n",
       "      <td>Alex Woo, Stanley Moore</td>\n",
       "      <td>Maisie Benson, Paul Killam, Kerry Gudjohnsen, ...</td>\n",
       "      <td>NaN</td>\n",
       "      <td>September 21, 2021</td>\n",
       "      <td>2021</td>\n",
       "      <td>TV-Y</td>\n",
       "      <td>61 min</td>\n",
       "      <td>Children &amp; Family Movies</td>\n",
       "      <td>From arcade games to sled days and hiccup cure...</td>\n",
       "    </tr>\n",
       "  </tbody>\n",
       "</table>\n",
       "</div>"
      ],
      "text/plain": [
       "  show_id   type                                              title  \\\n",
       "0      s1  Movie                               Dick Johnson Is Dead   \n",
       "1      s7  Movie                   My Little Pony: A New Generation   \n",
       "2      s8  Movie                                            Sankofa   \n",
       "3     s10  Movie                                       The Starling   \n",
       "4     s13  Movie                                       Je Suis Karl   \n",
       "5     s14  Movie                   Confessions of an Invisible Girl   \n",
       "6     s17  Movie  Europe's Most Dangerous Man: Otto Skorzeny in ...   \n",
       "7     s19  Movie                                          Intrusion   \n",
       "8     s23  Movie                                    Avvai Shanmughi   \n",
       "9     s24  Movie       Go! Go! Cory Carson: Chrissy Takes the Wheel   \n",
       "\n",
       "                                        director  \\\n",
       "0                                Kirsten Johnson   \n",
       "1                  Robert Cullen, José Luis Ucha   \n",
       "2                                   Haile Gerima   \n",
       "3                                 Theodore Melfi   \n",
       "4                            Christian Schwochow   \n",
       "5                                  Bruno Garotti   \n",
       "6  Pedro de Echave García, Pablo Azorín Williams   \n",
       "7                                     Adam Salky   \n",
       "8                                 K.S. Ravikumar   \n",
       "9                        Alex Woo, Stanley Moore   \n",
       "\n",
       "                                                cast  \\\n",
       "0                                                NaN   \n",
       "1  Vanessa Hudgens, Kimiko Glenn, James Marsden, ...   \n",
       "2  Kofi Ghanaba, Oyafunmike Ogunlano, Alexandra D...   \n",
       "3  Melissa McCarthy, Chris O'Dowd, Kevin Kline, T...   \n",
       "4  Luna Wedler, Jannis Niewöhner, Milan Peschel, ...   \n",
       "5  Klara Castanho, Lucca Picon, Júlia Gomes, Marc...   \n",
       "6                                                NaN   \n",
       "7  Freida Pinto, Logan Marshall-Green, Robert Joh...   \n",
       "8  Kamal Hassan, Meena, Gemini Ganesan, Heera Raj...   \n",
       "9  Maisie Benson, Paul Killam, Kerry Gudjohnsen, ...   \n",
       "\n",
       "                                             country          date_added  \\\n",
       "0                                      United States  September 25, 2021   \n",
       "1                                                NaN  September 24, 2021   \n",
       "2  United States, Ghana, Burkina Faso, United Kin...  September 24, 2021   \n",
       "3                                      United States  September 24, 2021   \n",
       "4                            Germany, Czech Republic  September 23, 2021   \n",
       "5                                                NaN  September 22, 2021   \n",
       "6                                                NaN  September 22, 2021   \n",
       "7                                                NaN  September 22, 2021   \n",
       "8                                                NaN  September 21, 2021   \n",
       "9                                                NaN  September 21, 2021   \n",
       "\n",
       "   release_year rating duration  \\\n",
       "0          2020  PG-13   90 min   \n",
       "1          2021     PG   91 min   \n",
       "2          1993  TV-MA  125 min   \n",
       "3          2021  PG-13  104 min   \n",
       "4          2021  TV-MA  127 min   \n",
       "5          2021  TV-PG   91 min   \n",
       "6          2020  TV-MA   67 min   \n",
       "7          2021  TV-14   94 min   \n",
       "8          1996  TV-PG  161 min   \n",
       "9          2021   TV-Y   61 min   \n",
       "\n",
       "                                          listed_in  \\\n",
       "0                                     Documentaries   \n",
       "1                          Children & Family Movies   \n",
       "2  Dramas, Independent Movies, International Movies   \n",
       "3                                  Comedies, Dramas   \n",
       "4                      Dramas, International Movies   \n",
       "5                Children & Family Movies, Comedies   \n",
       "6               Documentaries, International Movies   \n",
       "7                                         Thrillers   \n",
       "8                    Comedies, International Movies   \n",
       "9                          Children & Family Movies   \n",
       "\n",
       "                                         description  \n",
       "0  As her father nears the end of his life, filmm...  \n",
       "1  Equestria's divided. But a bright-eyed hero be...  \n",
       "2  On a photo shoot in Ghana, an American model s...  \n",
       "3  A woman adjusting to life after a loss contend...  \n",
       "4  After most of her family is murdered in a terr...  \n",
       "5  When the clever but socially-awkward Tetê join...  \n",
       "6  Declassified documents reveal the post-WWII li...  \n",
       "7  After a deadly home invasion at a couple’s new...  \n",
       "8  Newly divorced and denied visitation rights wi...  \n",
       "9  From arcade games to sled days and hiccup cure...  "
      ]
     },
     "execution_count": 12,
     "metadata": {},
     "output_type": "execute_result"
    }
   ],
   "source": [
    "movies.head(10)"
   ]
  },
  {
   "cell_type": "code",
   "execution_count": 13,
   "id": "dc8aed68",
   "metadata": {},
   "outputs": [],
   "source": [
    "categories = []\n",
    "for i in range(len(movies)):\n",
    "    for w in movies.loc[i,'listed_in'].split(\", \"):\n",
    "        if w not in categories:\n",
    "            categories.append(w)"
   ]
  },
  {
   "cell_type": "code",
   "execution_count": 14,
   "id": "84cf34a3",
   "metadata": {},
   "outputs": [],
   "source": [
    "NumberByTypes = []\n",
    "for i in range(len(categories)):\n",
    "    count = 0\n",
    "    for x in range(len(movies)):\n",
    "        if categories[i] in movies.loc[x,'listed_in'].split(\", \"):\n",
    "            count += 1\n",
    "    NumberByTypes.append(count)"
   ]
  },
  {
   "cell_type": "code",
   "execution_count": 15,
   "id": "ddd78bbf",
   "metadata": {},
   "outputs": [
    {
     "data": {
      "image/png": "[encoded data removed]",
      "text/plain": [
       "<Figure size 1800x1080 with 1 Axes>"
      ]
     },
     "metadata": {
      "needs_background": "light"
     },
     "output_type": "display_data"
    }
   ],
   "source": [
    "fig, ax = plt.subplots(figsize=(25,15))\n",
    "ax.barh(categories,NumberByTypes)\n",
    "plt.tick_params(labelsize=22)"
   ]
  },
  {
   "cell_type": "code",
   "execution_count": 16,
   "id": "a4fdd879",
   "metadata": {},
   "outputs": [],
   "source": [
    "myStopWords = list(punctuation) + stopwords.words('english')"
   ]
  },
  {
   "cell_type": "code",
   "execution_count": 17,
   "id": "70855cff",
   "metadata": {},
   "outputs": [
    {
     "data": {
      "text/plain": [
       "['Equestria',\n",
       " \"'s\",\n",
       " 'divided',\n",
       " '.',\n",
       " 'But',\n",
       " 'a',\n",
       " 'bright-eyed',\n",
       " 'hero',\n",
       " 'believes',\n",
       " 'Earth',\n",
       " 'Ponies',\n",
       " ',',\n",
       " 'Pegasi',\n",
       " 'and',\n",
       " 'Unicorns',\n",
       " 'should',\n",
       " 'be',\n",
       " 'pals',\n",
       " '—',\n",
       " 'and',\n",
       " ',',\n",
       " 'hoof',\n",
       " 'to',\n",
       " 'heart',\n",
       " ',',\n",
       " 'she',\n",
       " '’',\n",
       " 's',\n",
       " 'determined',\n",
       " 'to',\n",
       " 'prove',\n",
       " 'it',\n",
       " '.']"
      ]
     },
     "execution_count": 17,
     "metadata": {},
     "output_type": "execute_result"
    }
   ],
   "source": [
    "word_tokenize(movies.loc[1,'description'])"
   ]
  },
  {
   "cell_type": "markdown",
   "id": "836cfbc6",
   "metadata": {},
   "source": [
    "## Produce tags for movies based on their descriptions\n",
    "***\n",
    "Categories are usually helpful for audience to get an initial impression about the movie. However, as the time passes by, a particular category of movie may involve different elements. Moreover, posting some tags below the name of each category is also a useful way to allow the audience to find their favorite movie type. "
   ]
  },
  {
   "cell_type": "code",
   "execution_count": 62,
   "id": "dfd32d39",
   "metadata": {},
   "outputs": [],
   "source": [
    "## To create a list to include the tokneized description for all movies. \n",
    "\n",
    "descriptions = [word_tokenize(movies.loc[i,'description']) for i in range(len(movies))]"
   ]
  },
  {
   "cell_type": "code",
   "execution_count": 63,
   "id": "842c9db0",
   "metadata": {},
   "outputs": [],
   "source": [
    "## To get rid of the stopwords and punctuation.\n",
    "\n",
    "myStopWords = list(punctuation) + stopwords.words('english')\n",
    "desc = []\n",
    "for i in descriptions:\n",
    "    temp_list = [w for w in i if w not in myStopWords]\n",
    "    desc.append(temp_list)"
   ]
  },
  {
   "cell_type": "code",
   "execution_count": 64,
   "id": "7c601774",
   "metadata": {},
   "outputs": [],
   "source": [
    "## Using PorterStemmer to stem the words in descriptions. \n",
    "\n",
    "p_stemmer = PorterStemmer()\n",
    "desc_stemmed = []\n",
    "for i in desc:\n",
    "    desc_stemmed.append([p_stemmer.stem(w) for w in i])"
   ]
  },
  {
   "cell_type": "code",
   "execution_count": 65,
   "id": "5641b07d",
   "metadata": {},
   "outputs": [],
   "source": [
    "# To create a list to store the descriptions of movies from different categories. \n",
    "\n",
    "DescByTypes = []\n",
    "for i in range(len(categories)):\n",
    "    DescByTypes.append([movies.loc[x,'description'] for x in range(len(movies)) if categories[i] in movies.loc[x,'listed_in'].split(', ')])"
   ]
  },
  {
   "cell_type": "code",
   "execution_count": 66,
   "id": "6af99a23",
   "metadata": {},
   "outputs": [],
   "source": [
    "Documentaries = DescByTypes[1]"
   ]
  },
  {
   "cell_type": "code",
   "execution_count": 67,
   "id": "cfb6ffb2",
   "metadata": {},
   "outputs": [],
   "source": [
    "Docu = []\n",
    "for i in Documentaries:\n",
    "    Docu.append([w for w in word_tokenize(i.lower()) if w not in myStopWords])"
   ]
  },
  {
   "cell_type": "code",
   "execution_count": 68,
   "id": "521cbb05",
   "metadata": {},
   "outputs": [],
   "source": [
    "p_stemmer = PorterStemmer()\n",
    "Docu_stemmed = []\n",
    "for i in Docu:\n",
    "    Docu_stemmed.append([p_stemmer.stem(w) for w in i])"
   ]
  },
  {
   "cell_type": "code",
   "execution_count": 69,
   "id": "89cc60e0",
   "metadata": {},
   "outputs": [],
   "source": [
    "dictionary = corpora.Dictionary(Docu_stemmed)"
   ]
  },
  {
   "cell_type": "code",
   "execution_count": 70,
   "id": "9e11320d",
   "metadata": {},
   "outputs": [],
   "source": [
    "dictionary.filter_extremes(no_below=5, no_above=0.5)"
   ]
  },
  {
   "cell_type": "code",
   "execution_count": 71,
   "id": "ad743c90",
   "metadata": {},
   "outputs": [
    {
     "name": "stdout",
     "output_type": "stream",
     "text": [
      "{\"'s\": 0, 'determin': 1, 'earth': 2, 'heart': 3, 'hero': 4, 'pal': 5, 'prove': 6, '—': 7, '’': 8, \"'ll\": 9, 'join': 10, 'new': 11, 'queen': 12, 'school': 13, 'adventur': 14, 'cori': 15, 'curiou': 16, 'day': 17, 'fun': 18, 'game': 19, 'littl': 20, 'sister': 21, 'town': 22, 'everi': 23, 'friend': 24, 'magic': 25, 'must': 26, 'night': 27, 'scari': 28, 'stori': 29, 'tale': 30, 'trap': 31, 'witch': 32, 'kid': 33, 'mission': 34, 'search': 35, 'space': 36, 'travel': 37, 'bear': 38, 'crash': 39, 'interact': 40, 'leav': 41, 'make': 42, 'miss': 43, 'save': 44, 'surviv': 45, 'cop': 46, 'defeat': 47, 'demon': 48, 'enemi': 49, 'evil': 50, 'help': 51, 'lose': 52, 'plan': 53, 'singham': 54, 'stop': 55, 'superpow': 56, 'tri': 57, 'dragon': 58, 'fli': 59, 'home': 60, 'human': 61, 'live': 62, 'seek': 63, 'summon': 64, 'threaten': 65, 'young': 66, 'agent': 67, 'babi': 68, 'dog': 69, 'go': 70, 'pet': 71, 'show': 72, 'care': 73, 'heal': 74, 'hors': 75, 'teen': 76, 'work': 77, 'boy': 78, 'bring': 79, 'danc': 80, 'dream': 81, 'lost': 82, 'meet': 83, 'return': 84, 'togeth': 85, 'art': 86, 'barbi': 87, 'becom': 88, 'citi': 89, 'summer': 90, 'two': 91, 'york': 92, 'brother': 93, 'embark': 94, 'quest': 95, 'rescu': 96, 'anim': 97, 'host': 98, 'man': 99, '11-year-old': 100, 'away': 101, 'find': 102, 'mother': 103, 'power': 104, 'run': 105, 'famili': 106, 'head': 107, 'journey': 108, 'learn': 109, 'music': 110, 'parent': 111, 'destruct': 112, 'fight': 113, 'monster': 114, 'villag': 115, 'world': 116, 'deliv': 117, 'destini': 118, 'lifetim': 119, 'love': 120, 'old': 121, 'agre': 122, 'children': 123, 'father': 124, 'keep': 125, 'play': 126, 'pooch': 127, 'soon': 128, 'turn': 129, 'inventor': 130, 'high': 131, 'never': 132, 'surpris': 133, 'talk': 134, 'camp': 135, 'fear': 136, 'hatch': 137, 'spooki': 138, 'trip': 139, 'captur': 140, 'land': 141, 'planet': 142, 'coach': 143, 'gymnast': 144, \"n't\": 145, 'rival': 146, 'team': 147, 'back': 148, 'bheem': 149, 'scientist': 150, 'secret': 151, 'take': 152, 'time': 153, 'troubl': 154, 'buddi': 155, 'dholakpur': 156, 'get': 157, 'histori': 158, 'thing': 159, 'forc': 160, 'lord': 161, 'mous': 162, 'plot': 163, 'light': 164, 'need': 165, 'ruin': 166, 'behind': 167, 'real': 168, 'steal': 169, 'villain': 170, 'armi': 171, 'kingdom': 172, 'put': 173, 'arriv': 174, 'challeng': 175, 'kidnap': 176, 'princess': 177, 'upon': 178, 'set': 179, 'build': 180, 'monkey': 181, 'end': 182, 'mysteri': 183, 'rule': 184, 'taken': 185, 'catch': 186, 'destroy': 187, 'wind': 188, 'caus': 189, 'excit': 190, 'use': 191, 'magician': 192, 'alien': 193, 'king': 194, 'way': 195, 'call': 196, 'cub': 197, 'holiday': 198, 'snow': 199, 'martial': 200, 'prepar': 201, 'special': 202, 'stolen': 203, 'stone': 204, 'train': 205, 'watch': 206, 'send': 207, 'chanc': 208, 'danger': 209, 'fu': 210, 'kung': 211, 'master': 212, 'want': 213, 'protect': 214, 'girl': 215, 'one': 216, \"''\": 217, '``': 218, 'comedi': 219, 'goe': 220, 'look': 221, 'bad': 222, 'face': 223, 'seiz': 224, 'year': 225, 'long': 226, 'might': 227, 'ranger': 228, 'robot': 229, 'georg': 230, 'life': 231, 'name': 232, 'come': 233, 'realiz': 234, 'rise': 235, 'warrior': 236, 'five': 237, 'full': 238, 'peril': 239, 'dad': 240, 'popular': 241, 'cat': 242, 'shape': 243, 'befriend': 244, 'bulli': 245, 'lesson': 246, 'move': 247, 'battl': 248, 'foe': 249, 'mr.': 250, 'score': 251, 'settl': 252, 'visit': 253, 'bond': 254, 'champ': 255, 'compet': 256, 'discov': 257, 'follow': 258, 'india': 259, 'best': 260, 'celebr': 261, 'charm': 262, 'famou': 263, 'felin': 264, 'present': 265, 'video': 266, 'classic': 267, 'fairi': 268, 'favorit': 269, 'super': 270, 'captain': 271, 'competit': 272, 'guardian': 273, 'win': 274, 'invit': 275, 'misfit': 276, 'crew': 277, 'action': 278, 'spring': 279, 'twin': 280, 'hunt': 281, 'circu': 282, 'next': 283, 'ride': 284, 'motu': 285, 'neighbor': 286, 'patlu': 287, 'island': 288, 'lead': 289, 'strang': 290, 'ship': 291, 'greedi': 292, 'explor': 293, 'race': 294, 'start': 295, 'mean': 296, 'three': 297, 'job': 298, 'begin': 299, 'peopl': 300, 'along': 301, 'birthday': 302, 'jungl': 303, 'think': 304, 'wish': 305, 'sibl': 306, 'teenag': 307, 'skill': 308, 'rider': 309, 'treasur': 310, 'give': 311, 'much': 312, 'thiev': 313, 'chao': 314, 'superhero': 315, 'scheme': 316, 'order': 317, 'princ': 318, 'struggl': 319, 'talent': 320, 'forest': 321, 'biggest': 322, 'faith': 323, 'place': 324, 'giant': 325, 'kind': 326, 'orphan': 327, 'decid': 328, 'mom': 329, 'big': 330, 'son': 331, 'escap': 332, 'wild': 333, 'key': 334, 'pup': 335, 'accid': 336, 'base': 337, 'inspir': 338, 'true': 339, 'elit': 340, 'north': 341, 'star': 342, 'eve': 343, 'local': 344, 'neighborhood': 345, 'guy': 346, 'class': 347, 'pop': 348, 'tour': 349, 'farm': 350, 'trio': 351, 'first': 352, 'friendship': 353, 'christma': 354, 'hand': 355, 'santa': 356, 'creat': 357, 'band': 358, 'belov': 359, 'captiv': 360, 'gift': 361, 'prep': 362, 'seriou': 363, 'chang': 364, 'tradit': 365, 'woman': 366, 'hit': 367, 'hous': 368, 'memori': 369, 'documentari': 370, 'group': 371, 'student': 372, 'pole': 373, 'spirit': 374, 'fall': 375, 'war': 376, 'intellig': 377, 'hope': 378, 'break': 379, 'strand': 380, '–': 381, 'legendari': 382, 'differ': 383, 'halloween': 384, 'recruit': 385, 'charact': 386, 'spend': 387, 'pair': 388, 'unlik': 389, 'abandon': 390, 'royal': 391, 'trade': 392, 'test': 393, 'intern': 394, 'ever': 395, 'navig': 396, 'seri': 397, 'movi': 398, 'report': 399, 'ambiti': 400, 'daughter': 401, 'transform': 402, 'park': 403, 'winter': 404, 'american': 405, 'four': 406, 'rainbow': 407, 'egg': 408, 'short': 409, 'player': 410, 'soccer': 411, 'stumbl': 412, 'lion': 413, 'open': 414, 'thoma': 415, 'gang': 416, 'good': 417, 'encount': 418, 'around': 419, 'clau': 420, 'disappear': 421, 'festiv': 422, 'accident': 423, 'mix': 424, 'design': 425, 'solv': 426, 'colleg': 427, 'color': 428, 'caught': 429, 'film': 430, 'ventur': 431, 'rais': 432, 'dash': 433, 'athlet': 434, 'wolf': 435}\n"
     ]
    }
   ],
   "source": [
    "print(dictionary.token2id)"
   ]
  },
  {
   "cell_type": "code",
   "execution_count": 28,
   "id": "75c9fb87",
   "metadata": {},
   "outputs": [],
   "source": [
    "corpus = [dictionary.doc2bow(text) for text in Docu_stemmed]"
   ]
  },
  {
   "cell_type": "code",
   "execution_count": 29,
   "id": "5bcb9173",
   "metadata": {},
   "outputs": [],
   "source": [
    "ldamodel = gensim.models.ldamodel.LdaModel(corpus, \n",
    "                                           num_topics=1, \n",
    "                                           id2word = dictionary, \n",
    "                                           passes=5)"
   ]
  },
  {
   "cell_type": "code",
   "execution_count": 30,
   "id": "6c4b2d6d",
   "metadata": {},
   "outputs": [
    {
     "data": {
      "text/plain": [
       "[(0,\n",
       "  '0.039*\"documentari\" + 0.030*\"\\'s\" + 0.012*\"life\" + 0.010*\"world\" + 0.010*\"explor\" + 0.010*\"follow\" + 0.009*\"``\" + 0.009*\"\\'\\'\" + 0.009*\"film\" + 0.007*\"stori\"')]"
      ]
     },
     "execution_count": 30,
     "metadata": {},
     "output_type": "execute_result"
    }
   ],
   "source": [
    "ldamodel.show_topics(num_topics=1)"
   ]
  },
  {
   "cell_type": "code",
   "execution_count": 31,
   "id": "e923d9fe",
   "metadata": {},
   "outputs": [],
   "source": [
    "# Now let's create such lists for each movie category. \n",
    "\n",
    "myStopWords = list(punctuation) + stopwords.words('english')\n",
    "ctg_des = []\n",
    "for c in range(len(categories)):\n",
    "    descriptions = [word_tokenize(DescByTypes[c][i]) for i in range(len(DescByTypes[c]))]\n",
    "    descriptions_flatten = [a for b in descriptions for a in b]\n",
    "    temp_list = [w for w in descriptions_flatten if w not in myStopWords]\n",
    "    ctg_des.append(temp_list)"
   ]
  },
  {
   "cell_type": "code",
   "execution_count": 32,
   "id": "675d0727",
   "metadata": {},
   "outputs": [],
   "source": [
    "p_stemmer = PorterStemmer()\n",
    "des_stemmed = []\n",
    "for i in ctg_des:\n",
    "    des_stemmed.append([p_stemmer.stem(w) for w in i])"
   ]
  },
  {
   "cell_type": "code",
   "execution_count": 33,
   "id": "5a2b5ded",
   "metadata": {},
   "outputs": [
    {
     "data": {
      "application/vnd.jupyter.widget-view+json": {
       "model_id": "37b24ec4877140da945fdc25cf0ec5bd",
       "version_major": 2,
       "version_minor": 0
      },
      "text/plain": [
       "interactive(children=(IntSlider(value=9, description='m', max=18), Output()), _dom_classes=('widget-interact',…"
      ]
     },
     "metadata": {},
     "output_type": "display_data"
    },
    {
     "data": {
      "text/plain": [
       "<function __main__.visualize(m)>"
      ]
     },
     "execution_count": 33,
     "metadata": {},
     "output_type": "execute_result"
    }
   ],
   "source": [
    "def visualize(m):\n",
    "    Desc = []\n",
    "    for i in DescByTypes[m]:\n",
    "        Desc.append([w for w in word_tokenize(i.lower()) if w not in myStopWords])\n",
    "    p_stemmer = PorterStemmer()\n",
    "    Desc_stemmed = []\n",
    "    for i in Desc:\n",
    "        Desc_stemmed.append([p_stemmer.stem(w) for w in i])\n",
    "    dictionary = corpora.Dictionary(Desc_stemmed)\n",
    "    dictionary.filter_extremes(no_below=5, no_above=0.5)\n",
    "    corpus = [dictionary.doc2bow(text) for text in Desc_stemmed]\n",
    "    ldamodel = gensim.models.ldamodel.LdaModel(corpus, \n",
    "                                           num_topics=1, \n",
    "                                           id2word = dictionary, \n",
    "                                           passes=5,\n",
    "                                           random_state=1)\n",
    "    fig,ax = plt.subplots()\n",
    "\n",
    "    x = []\n",
    "    y = []\n",
    "    count = 0\n",
    "    for i in re.split(re.escape(' + ') + '|' + re.escape('*'), ldamodel.print_topics(num_topics=1, num_words=20)[0][1]):\n",
    "        if count % 2 == 0:\n",
    "            y.insert(0,float(i))\n",
    "        else:\n",
    "            x.insert(0,i)\n",
    "        count += 1\n",
    "    ax.barh(x,y,height=0.5)\n",
    "    plt.tight_layout()\n",
    "ipywidgets.interact(visualize,m=(0,18))"
   ]
  },
  {
   "cell_type": "markdown",
   "id": "4c3a4090",
   "metadata": {},
   "source": [
    "Through observation, I found the \"'s\" should be removed from the "
   ]
  },
  {
   "cell_type": "code",
   "execution_count": 79,
   "id": "3c8ff633",
   "metadata": {},
   "outputs": [],
   "source": [
    "myStopWords.extend([\"'s\",\"'\",\"·\",\"``\",'\"','—'])"
   ]
  },
  {
   "cell_type": "code",
   "execution_count": 87,
   "id": "1bdff2f9",
   "metadata": {},
   "outputs": [
    {
     "data": {
      "application/vnd.jupyter.widget-view+json": {
       "model_id": "66af02c71e16412b8d85845dcdd64d2a",
       "version_major": 2,
       "version_minor": 0
      },
      "text/plain": [
       "interactive(children=(IntSlider(value=9, description='m', max=18), Output()), _dom_classes=('widget-interact',…"
      ]
     },
     "metadata": {},
     "output_type": "display_data"
    },
    {
     "data": {
      "text/plain": [
       "<function __main__.visualize(m)>"
      ]
     },
     "execution_count": 87,
     "metadata": {},
     "output_type": "execute_result"
    }
   ],
   "source": [
    "DescByTypes = []\n",
    "for i in range(len(categories)):\n",
    "    DescByTypes.append([movies.loc[x,'description'] for x in range(len(movies)) if categories[i] in movies.loc[x,'listed_in'].split(', ')])\n",
    "def visualize(m):\n",
    "    Desc = []\n",
    "    for i in DescByTypes[m]:\n",
    "        Desc.append([w for w in word_tokenize(i.lower()) if w not in myStopWords])\n",
    "    p_stemmer = PorterStemmer()\n",
    "    Desc_stemmed = []\n",
    "    for i in Desc:\n",
    "        Desc_stemmed.append([p_stemmer.stem(w) for w in i])\n",
    "    dictionary = corpora.Dictionary(Desc_stemmed)\n",
    "    dictionary.filter_extremes(no_below=5, no_above=0.5)\n",
    "    corpus = [dictionary.doc2bow(text) for text in Desc_stemmed]\n",
    "    ldamodel = gensim.models.ldamodel.LdaModel(corpus, \n",
    "                                           num_topics=1, \n",
    "                                           id2word = dictionary, \n",
    "                                           passes=5,\n",
    "                                           random_state=1)\n",
    "    fig,ax = plt.subplots()\n",
    "\n",
    "    x = []\n",
    "    y = []\n",
    "    count = 0\n",
    "    for i in re.split(re.escape(' + ') + '|' + re.escape('*'), ldamodel.print_topics(num_topics=1, num_words=20)[0][1]):\n",
    "        if count % 2 == 0:\n",
    "            y.insert(0,float(i))\n",
    "        else:\n",
    "            x.insert(0,i)\n",
    "        count += 1\n",
    "    ax.barh(x,y,height=0.5)\n",
    "    plt.tight_layout()\n",
    "ipywidgets.interact(visualize,m=(0,18))"
   ]
  },
  {
   "cell_type": "code",
   "execution_count": 94,
   "id": "c045ca14",
   "metadata": {},
   "outputs": [
    {
     "data": {
      "application/vnd.jupyter.widget-view+json": {
       "model_id": "f7ec5ae501284682968377702e932804",
       "version_major": 2,
       "version_minor": 0
      },
      "text/plain": [
       "interactive(children=(IntSlider(value=9, description='m', max=18), Output()), _dom_classes=('widget-interact',…"
      ]
     },
     "metadata": {},
     "output_type": "display_data"
    },
    {
     "data": {
      "text/plain": [
       "<function __main__.visualize(m)>"
      ]
     },
     "execution_count": 94,
     "metadata": {},
     "output_type": "execute_result"
    }
   ],
   "source": [
    "def visualize(m):\n",
    "    Desc = []\n",
    "    for i in DescByTypes[m]:\n",
    "        Desc.append([w for w in word_tokenize(i.lower()) if w not in myStopWords])\n",
    "    p_stemmer = PorterStemmer()\n",
    "    Desc_stemmed = []\n",
    "    for i in Desc:\n",
    "        Desc_stemmed.append([p_stemmer.stem(w) for w in i])\n",
    "    dictionary = corpora.Dictionary(Desc_stemmed)\n",
    "    dictionary.filter_extremes(no_below=5, no_above=0.5)\n",
    "    corpus = [dictionary.doc2bow(text) for text in Desc_stemmed]\n",
    "    ldamodel = gensim.models.ldamodel.LdaModel(corpus, \n",
    "                                           num_topics=1, \n",
    "                                           id2word = dictionary, \n",
    "                                           passes=5,\n",
    "                                           random_state=1)\n",
    "\n",
    "    x = []\n",
    "    y = []\n",
    "    count = 0\n",
    "    for i in re.split(re.escape(' + ') + '|' + re.escape('*'), ldamodel.print_topics(num_topics=1, num_words=20)[0][1]):\n",
    "        if count % 2 == 0:\n",
    "            y.insert(0,float(i))\n",
    "        else:\n",
    "            x.insert(0,i)\n",
    "        count += 1\n",
    "    plt.figure(figsize=(20,20))\n",
    "    frequencies = {}\n",
    "    for a in x:\n",
    "        frequencies[a]=y[x.index(a)]\n",
    "    plt.title('The topics from different types of movies\\n', fontsize=30, weight=600, color='#333d29')\n",
    "    wc = wordcloud.WordCloud(max_words=1000, min_font_size=10,\n",
    "                height=800,width=1600,background_color=\"white\").generate(' '.join(x))\n",
    "    word_cloud = wc.generate_from_frequencies(frequencies)\n",
    "\n",
    "    plt.imshow(wc)\n",
    "ipywidgets.interact(visualize,m=(0,18))\n"
   ]
  },
  {
   "cell_type": "code",
   "execution_count": 39,
   "id": "81cad14f",
   "metadata": {},
   "outputs": [],
   "source": [
    "x = []\n",
    "y = []\n",
    "count = 0\n",
    "for i in re.split(re.escape(' + ') + '|' + re.escape('*'), ldamodel.print_topics(num_topics=1, num_words=20)[0][1]):\n",
    "    if count % 2 == 0:\n",
    "        y.insert(0,float(i))\n",
    "    else:\n",
    "        x.insert(0,i)\n",
    "    count += 1"
   ]
  }
 ],
 "metadata": {
  "kernelspec": {
   "display_name": "Python 3 (ipykernel)",
   "language": "python",
   "name": "python3"
  },
  "language_info": {
   "codemirror_mode": {
    "name": "ipython",
    "version": 3
   },
   "file_extension": ".py",
   "mimetype": "text/x-python",
   "name": "python",
   "nbconvert_exporter": "python",
   "pygments_lexer": "ipython3",
   "version": "3.9.12"
  }
 },
 "nbformat": 4,
 "nbformat_minor": 5
}
